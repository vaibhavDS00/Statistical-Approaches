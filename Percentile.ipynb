{
 "cells": [
  {
   "cell_type": "code",
   "execution_count": 1,
   "id": "339d3860",
   "metadata": {},
   "outputs": [
    {
     "name": "stdout",
     "output_type": "stream",
     "text": [
      "25th percentile: 20.0\n",
      "50th percentile: 30.0\n",
      "75th percentile: 40.0\n"
     ]
    }
   ],
   "source": [
    "import numpy as np\n",
    "data=[10,50,30,20,40]\n",
    "data.sort()\n",
    "percentile_25=np.percentile(data,25)\n",
    "percentile_50=np.percentile(data,50)\n",
    "percentile_75=np.percentile(data,75)\n",
    "print(f\"25th percentile: {percentile_25}\")\n",
    "print(f\"50th percentile: {percentile_50}\")\n",
    "print(f\"75th percentile: {percentile_75}\")"
   ]
  },
  {
   "cell_type": "code",
   "execution_count": 2,
   "id": "267485e8",
   "metadata": {},
   "outputs": [
    {
     "name": "stdout",
     "output_type": "stream",
     "text": [
      "25th percentile: 10.5\n",
      "50th percentile: 28.0\n",
      "75th percentile: 68.75\n"
     ]
    }
   ],
   "source": [
    "data1=[5,7,9,15,22,34,50,75,90,100]\n",
    "data1.sort()\n",
    "percentile_25=np.percentile(data1,25)\n",
    "percentile_50=np.percentile(data1,50)\n",
    "percentile_75=np.percentile(data1,75)\n",
    "print(f\"25th percentile: {percentile_25}\")\n",
    "print(f\"50th percentile: {percentile_50}\")\n",
    "print(f\"75th percentile: {percentile_75}\")"
   ]
  },
  {
   "cell_type": "code",
   "execution_count": null,
   "id": "f7959766",
   "metadata": {},
   "outputs": [],
   "source": []
  }
 ],
 "metadata": {
  "kernelspec": {
   "display_name": "base",
   "language": "python",
   "name": "python3"
  },
  "language_info": {
   "codemirror_mode": {
    "name": "ipython",
    "version": 3
   },
   "file_extension": ".py",
   "mimetype": "text/x-python",
   "name": "python",
   "nbconvert_exporter": "python",
   "pygments_lexer": "ipython3",
   "version": "3.12.7"
  }
 },
 "nbformat": 4,
 "nbformat_minor": 5
}
