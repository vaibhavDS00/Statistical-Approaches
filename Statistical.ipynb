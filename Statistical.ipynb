{
 "cells": [
  {
   "cell_type": "code",
   "execution_count": 1,
   "metadata": {
    "colab": {
     "base_uri": "https://localhost:8080/"
    },
    "executionInfo": {
     "elapsed": 22,
     "status": "ok",
     "timestamp": 1744360842934,
     "user": {
      "displayName": "Vaibhav Gupta",
      "userId": "07506725323962709175"
     },
     "user_tz": -330
    },
    "id": "vJlbk-VoMbjd",
    "outputId": "5d35fe24-e3b0-48f2-ef0e-333e87223168"
   },
   "outputs": [
    {
     "name": "stdout",
     "output_type": "stream",
     "text": [
      "15.0\n"
     ]
    }
   ],
   "source": [
    "Data=[5,10,15,20,25]\n",
    "Data.sort()\n",
    "mean_val=sum(Data)/len(Data)\n",
    "print(mean_val)"
   ]
  },
  {
   "cell_type": "code",
   "execution_count": 2,
   "metadata": {
    "colab": {
     "base_uri": "https://localhost:8080/"
    },
    "executionInfo": {
     "elapsed": 43,
     "status": "ok",
     "timestamp": 1744280807794,
     "user": {
      "displayName": "Vaibhav Gupta",
      "userId": "07506725323962709175"
     },
     "user_tz": -330
    },
    "id": "mKT2kss5M41k",
    "outputId": "9c7565bd-bf20-4b7f-ed2e-667aed5264ca"
   },
   "outputs": [
    {
     "name": "stdout",
     "output_type": "stream",
     "text": [
      "35.0\n"
     ]
    }
   ],
   "source": [
    "dataset=[60,20,40,30,50,10]\n",
    "dataset.sort()\n",
    "n=len(dataset)\n",
    "if n%2==0:\n",
    "  median=(dataset[n//2]+dataset[n//2-1])/2\n",
    "else:\n",
    "  median=dataset[n//2]\n",
    "print(median)"
   ]
  },
  {
   "cell_type": "code",
   "execution_count": 3,
   "metadata": {
    "id": "vnKVY_xr_wDE"
   },
   "outputs": [],
   "source": [
    "import statistics"
   ]
  },
  {
   "cell_type": "code",
   "execution_count": 4,
   "metadata": {
    "colab": {
     "base_uri": "https://localhost:8080/"
    },
    "executionInfo": {
     "elapsed": 15,
     "status": "ok",
     "timestamp": 1744360802404,
     "user": {
      "displayName": "Vaibhav Gupta",
      "userId": "07506725323962709175"
     },
     "user_tz": -330
    },
    "id": "79AVlrSbAOMq",
    "outputId": "153e57ce-8487-4834-df1c-0657f352f0dc"
   },
   "outputs": [
    {
     "name": "stdout",
     "output_type": "stream",
     "text": [
      "10\n"
     ]
    }
   ],
   "source": [
    "data=[10,20, 30, 40, 50]\n",
    "data.sort()\n",
    "mode=statistics.mode(data)\n",
    "print(mode)"
   ]
  },
  {
   "cell_type": "code",
   "execution_count": 5,
   "metadata": {
    "colab": {
     "base_uri": "https://localhost:8080/"
    },
    "executionInfo": {
     "elapsed": 15,
     "status": "ok",
     "timestamp": 1744360933666,
     "user": {
      "displayName": "Vaibhav Gupta",
      "userId": "07506725323962709175"
     },
     "user_tz": -330
    },
    "id": "zatt1uWyAT3M",
    "outputId": "551b71ff-0c11-49e2-91ba-5eeb652757cf"
   },
   "outputs": [
    {
     "name": "stdout",
     "output_type": "stream",
     "text": [
      "39.166666666666664\n"
     ]
    }
   ],
   "source": [
    "a=[10,20,50,5,60,90]\n",
    "a.sort()\n",
    "mean=statistics.mean(a)\n",
    "print(mean)"
   ]
  },
  {
   "cell_type": "code",
   "execution_count": 6,
   "metadata": {
    "colab": {
     "base_uri": "https://localhost:8080/"
    },
    "executionInfo": {
     "elapsed": 20,
     "status": "ok",
     "timestamp": 1744361096374,
     "user": {
      "displayName": "Vaibhav Gupta",
      "userId": "07506725323962709175"
     },
     "user_tz": -330
    },
    "id": "p_-KzsUuA2Y1",
    "outputId": "55d19844-8194-4754-c5b4-ffffe1d40c59"
   },
   "outputs": [
    {
     "name": "stdout",
     "output_type": "stream",
     "text": [
      "75.0\n"
     ]
    }
   ],
   "source": [
    "b=[10,80,50,90,100,70]\n",
    "b.sort()\n",
    "median=statistics.median(b)\n",
    "print(median)"
   ]
  },
  {
   "cell_type": "code",
   "execution_count": 7,
   "metadata": {
    "colab": {
     "base_uri": "https://localhost:8080/"
    },
    "executionInfo": {
     "elapsed": 9,
     "status": "ok",
     "timestamp": 1744361156162,
     "user": {
      "displayName": "Vaibhav Gupta",
      "userId": "07506725323962709175"
     },
     "user_tz": -330
    },
    "id": "94ol0sj7BZO9",
    "outputId": "11d2a02f-3bb3-4d92-bd28-9a61d96c5040"
   },
   "outputs": [
    {
     "name": "stdout",
     "output_type": "stream",
     "text": [
      "10\n"
     ]
    }
   ],
   "source": [
    "c=[10,100,80,20,60,90,40,50]\n",
    "c.sort()\n",
    "mode=statistics.mode(c)\n",
    "print(mode)"
   ]
  },
  {
   "cell_type": "code",
   "execution_count": 8,
   "metadata": {
    "colab": {
     "base_uri": "https://localhost:8080/"
    },
    "executionInfo": {
     "elapsed": 24,
     "status": "ok",
     "timestamp": 1744361490121,
     "user": {
      "displayName": "Vaibhav Gupta",
      "userId": "07506725323962709175"
     },
     "user_tz": -330
    },
    "id": "jFF8cUglBuxV",
    "outputId": "f1870839-2072-45d6-e8e8-0259604a20c6"
   },
   "outputs": [
    {
     "name": "stdout",
     "output_type": "stream",
     "text": [
      "23.0\n"
     ]
    }
   ],
   "source": [
    "Data1=[5,10,50,20,30]\n",
    "Data1.sort()\n",
    "mean_value=sum(Data1)/len(Data1)\n",
    "print(mean_value)"
   ]
  },
  {
   "cell_type": "code",
   "execution_count": 9,
   "metadata": {
    "colab": {
     "base_uri": "https://localhost:8080/"
    },
    "executionInfo": {
     "elapsed": 21,
     "status": "ok",
     "timestamp": 1744366975178,
     "user": {
      "displayName": "Vaibhav Gupta",
      "userId": "07506725323962709175"
     },
     "user_tz": -330
    },
    "id": "s3tv0GnsCvUt",
    "outputId": "ff4cc158-1d12-413a-f2fb-e59a7b2140ce"
   },
   "outputs": [
    {
     "name": "stdout",
     "output_type": "stream",
     "text": [
      "40\n"
     ]
    }
   ],
   "source": [
    "dataset1=[60,30,40,60,50,10,20]\n",
    "dataset1.sort()\n",
    "n=len(dataset1)\n",
    "if n%2==0:\n",
    "  median=(dataset1[n//2]+dataset1[n//2-1])/2\n",
    "else:\n",
    "  median=dataset1[n//2]\n",
    "print(median)"
   ]
  },
  {
   "cell_type": "code",
   "execution_count": 10,
   "metadata": {
    "colab": {
     "base_uri": "https://localhost:8080/"
    },
    "executionInfo": {
     "elapsed": 68,
     "status": "ok",
     "timestamp": 1744370269789,
     "user": {
      "displayName": "Vaibhav Gupta",
      "userId": "07506725323962709175"
     },
     "user_tz": -330
    },
    "id": "ZQicK7ydX7dc",
    "outputId": "3a80797a-aa31-4196-b739-d14e5e5a83e6"
   },
   "outputs": [
    {
     "name": "stdout",
     "output_type": "stream",
     "text": [
      "40\n"
     ]
    }
   ],
   "source": [
    "dataset=[60,30,40,40,50,10,20]\n",
    "dataset.sort()\n",
    "mode=statistics.mode(dataset)\n",
    "print(mode)"
   ]
  },
  {
   "cell_type": "code",
   "execution_count": 11,
   "metadata": {
    "colab": {
     "base_uri": "https://localhost:8080/"
    },
    "executionInfo": {
     "elapsed": 17,
     "status": "ok",
     "timestamp": 1744397363628,
     "user": {
      "displayName": "Vaibhav Gupta",
      "userId": "07506725323962709175"
     },
     "user_tz": -330
    },
    "id": "x-n-czYeYHMo",
    "outputId": "edba3337-8c1f-4999-f7d2-2f1d83065f32"
   },
   "outputs": [
    {
     "name": "stdout",
     "output_type": "stream",
     "text": [
      "Mode: 20\n"
     ]
    }
   ],
   "source": [
    "numbers=[10,20,50,20,20,5,60,90]\n",
    "def find_mode(lst):\n",
    "    counts = {}\n",
    "    for item in lst:\n",
    "        if item in counts:\n",
    "            counts[item] += 1\n",
    "        else:\n",
    "            counts[item] = 1\n",
    "    mode = max(counts, key=counts.get)\n",
    "    return mode\n",
    "print('Mode:', find_mode(numbers))"
   ]
  },
  {
   "cell_type": "code",
   "execution_count": 12,
   "metadata": {
    "id": "YiJ8pil06QOe"
   },
   "outputs": [],
   "source": [
    "import numpy as np"
   ]
  },
  {
   "cell_type": "code",
   "execution_count": 13,
   "metadata": {
    "colab": {
     "base_uri": "https://localhost:8080/"
    },
    "executionInfo": {
     "elapsed": 65,
     "status": "ok",
     "timestamp": 1744649765548,
     "user": {
      "displayName": "Vaibhav Gupta",
      "userId": "07506725323962709175"
     },
     "user_tz": -330
    },
    "id": "kucBxObLOEZl",
    "outputId": "04f0ab57-865f-43c4-d7bb-f80c5c50fba6"
   },
   "outputs": [
    {
     "name": "stdout",
     "output_type": "stream",
     "text": [
      "25th percentile: 20.0\n",
      "50th percentile: 30.0\n",
      "75th percentile: 40.0\n"
     ]
    }
   ],
   "source": [
    "data=[10,50,30,20,40]\n",
    "data.sort()\n",
    "percentile_25=np.percentile(data,25)\n",
    "percentile_50=np.percentile(data,50)\n",
    "percentile_75=np.percentile(data,75)\n",
    "print(f\"25th percentile: {percentile_25}\")\n",
    "print(f\"50th percentile: {percentile_50}\")\n",
    "print(f\"75th percentile: {percentile_75}\")"
   ]
  },
  {
   "cell_type": "code",
   "execution_count": 14,
   "metadata": {
    "colab": {
     "base_uri": "https://localhost:8080/"
    },
    "executionInfo": {
     "elapsed": 32,
     "status": "ok",
     "timestamp": 1744650078715,
     "user": {
      "displayName": "Vaibhav Gupta",
      "userId": "07506725323962709175"
     },
     "user_tz": -330
    },
    "id": "Q-VjKi_pOsC4",
    "outputId": "b73829a5-e828-44ae-cacf-7264b0fa00bb"
   },
   "outputs": [
    {
     "name": "stdout",
     "output_type": "stream",
     "text": [
      "25th percentile: 10.5\n",
      "50th percentile: 28.0\n",
      "75th percentile: 68.75\n"
     ]
    }
   ],
   "source": [
    "data1=[5,7,9,15,22,34,50,75,90,100]\n",
    "data1.sort()\n",
    "percentile_25=np.percentile(data1,25)\n",
    "percentile_50=np.percentile(data1,50)\n",
    "percentile_75=np.percentile(data1,75)\n",
    "print(f\"25th percentile: {percentile_25}\")\n",
    "print(f\"50th percentile: {percentile_50}\")\n",
    "print(f\"75th percentile: {percentile_75}\")"
   ]
  },
  {
   "cell_type": "code",
   "execution_count": 15,
   "metadata": {
    "colab": {
     "base_uri": "https://localhost:8080/"
    },
    "executionInfo": {
     "elapsed": 39,
     "status": "ok",
     "timestamp": 1744650355007,
     "user": {
      "displayName": "Vaibhav Gupta",
      "userId": "07506725323962709175"
     },
     "user_tz": -330
    },
    "id": "F12yaJGYP4hA",
    "outputId": "09b85fc8-3b69-4491-bb3f-61ff0f9c57a4"
   },
   "outputs": [
    {
     "name": "stdout",
     "output_type": "stream",
     "text": [
      "mean: 30.0\n",
      "Variance: 200.0\n",
      "Standard deviation: 14.142135623730951\n"
     ]
    }
   ],
   "source": [
    "data2=[10,20,30,40,50]\n",
    "n=len(data)\n",
    "mean = sum (data2)/n\n",
    "square_diffs=[(x-mean)**2 for x in data]\n",
    "var= sum(square_diffs)/n\n",
    "stdev=var**0.5\n",
    "print(\"mean:\", mean)\n",
    "print(\"Variance:\",var)\n",
    "print(\"Standard deviation:\", stdev)"
   ]
  },
  {
   "cell_type": "code",
   "execution_count": 16,
   "metadata": {
    "executionInfo": {
     "elapsed": 10,
     "status": "ok",
     "timestamp": 1744796568145,
     "user": {
      "displayName": "Vaibhav Gupta",
      "userId": "07506725323962709175"
     },
     "user_tz": -330
    },
    "id": "1JjVzPWiQ781"
   },
   "outputs": [],
   "source": [
    "import matplotlib.pyplot as plt\n",
    "from collections import Counter"
   ]
  },
  {
   "cell_type": "code",
   "execution_count": 17,
   "metadata": {
    "colab": {
     "base_uri": "https://localhost:8080/",
     "height": 447
    },
    "executionInfo": {
     "elapsed": 292,
     "status": "ok",
     "timestamp": 1744797944767,
     "user": {
      "displayName": "Vaibhav Gupta",
      "userId": "07506725323962709175"
     },
     "user_tz": -330
    },
    "id": "XX945jhF-nAW",
    "outputId": "8968ec43-8e1d-42fb-d633-432332a50752"
   },
   "outputs": [
    {
     "data": {
      "image/png": "[encoded data removed]",
      "text/plain": [
       "<Figure size 640x480 with 1 Axes>"
      ]
     },
     "metadata": {},
     "output_type": "display_data"
    },
    {
     "name": "stdout",
     "output_type": "stream",
     "text": [
      "Counter({20: 4, 10: 2, 15: 2, 30: 2, 40: 1, 50: 1, 60: 1})\n"
     ]
    }
   ],
   "source": [
    "data=[10,10,15,15,20,20,20,20,30,30,40,50,60]\n",
    "freq=Counter(data)\n",
    "plt.bar(freq.keys(),freq.values(),color='black')\n",
    "plt.grid(axis='y',linestyle='dashdot',alpha=0.4)\n",
    "plt.show()\n",
    "print(freq)"
   ]
  }
 ],
 "metadata": {
  "colab": {
   "authorship_tag": "ABX9TyOHzCq5OuAE087sXmmiT7Rz",
   "provenance": []
  },
  "kernelspec": {
   "display_name": "base",
   "language": "python",
   "name": "python3"
  },
  "language_info": {
   "codemirror_mode": {
    "name": "ipython",
    "version": 3
   },
   "file_extension": ".py",
   "mimetype": "text/x-python",
   "name": "python",
   "nbconvert_exporter": "python",
   "pygments_lexer": "ipython3",
   "version": "3.12.7"
  }
 },
 "nbformat": 4,
 "nbformat_minor": 0
}
