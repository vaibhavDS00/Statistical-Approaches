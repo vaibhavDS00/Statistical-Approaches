{
 "cells": [
  {
   "cell_type": "code",
   "execution_count": 1,
   "id": "251815f6",
   "metadata": {},
   "outputs": [
    {
     "name": "stdout",
     "output_type": "stream",
     "text": [
      "15.0\n"
     ]
    }
   ],
   "source": [
    "Data=[5,10,15,20,25]\n",
    "Data.sort()\n",
    "mean_val=sum(Data)/len(Data)\n",
    "print(mean_val)"
   ]
  },
  {
   "cell_type": "code",
   "execution_count": 2,
   "id": "229240b7",
   "metadata": {},
   "outputs": [
    {
     "name": "stdout",
     "output_type": "stream",
     "text": [
      "35.0\n"
     ]
    }
   ],
   "source": [
    "dataset=[60,20,40,30,50,10]\n",
    "dataset.sort()\n",
    "n=len(dataset)\n",
    "if n%2==0:\n",
    "  median=(dataset[n//2]+dataset[n//2-1])/2\n",
    "else:\n",
    "  median=dataset[n//2]\n",
    "print(median)"
   ]
  },
  {
   "cell_type": "code",
   "execution_count": 3,
   "id": "48b39650",
   "metadata": {},
   "outputs": [
    {
     "name": "stdout",
     "output_type": "stream",
     "text": [
      "10\n"
     ]
    }
   ],
   "source": [
    "import statistics\n",
    "data=[10,20, 30, 40, 50]\n",
    "data.sort()\n",
    "mode=statistics.mode(data)\n",
    "print(mode)"
   ]
  },
  {
   "cell_type": "code",
   "execution_count": 4,
   "id": "5747f29c",
   "metadata": {},
   "outputs": [
    {
     "name": "stdout",
     "output_type": "stream",
     "text": [
      "39.166666666666664\n"
     ]
    }
   ],
   "source": [
    "a=[10,20,50,5,60,90]\n",
    "a.sort()\n",
    "mean=statistics.mean(a)\n",
    "print(mean)"
   ]
  },
  {
   "cell_type": "code",
   "execution_count": 5,
   "id": "712dba19",
   "metadata": {},
   "outputs": [
    {
     "name": "stdout",
     "output_type": "stream",
     "text": [
      "75.0\n"
     ]
    }
   ],
   "source": [
    "b=[10,80,50,90,100,70]\n",
    "b.sort()\n",
    "median=statistics.median(b)\n",
    "print(median)"
   ]
  },
  {
   "cell_type": "code",
   "execution_count": 6,
   "id": "294cbfc7",
   "metadata": {},
   "outputs": [
    {
     "name": "stdout",
     "output_type": "stream",
     "text": [
      "10\n"
     ]
    }
   ],
   "source": [
    "c=[10,100,80,20,60,90,40,50]\n",
    "c.sort()\n",
    "mode=statistics.mode(c)\n",
    "print(mode)"
   ]
  },
  {
   "cell_type": "code",
   "execution_count": 7,
   "id": "dd4687c8",
   "metadata": {},
   "outputs": [
    {
     "name": "stdout",
     "output_type": "stream",
     "text": [
      "23.0\n"
     ]
    }
   ],
   "source": [
    "Data1=[5,10,50,20,30]\n",
    "Data1.sort()\n",
    "mean_value=sum(Data1)/len(Data1)\n",
    "print(mean_value)\n"
   ]
  },
  {
   "cell_type": "code",
   "execution_count": 8,
   "id": "7ad435ab",
   "metadata": {},
   "outputs": [
    {
     "name": "stdout",
     "output_type": "stream",
     "text": [
      "40\n"
     ]
    }
   ],
   "source": [
    "dataset1=[60,30,40,60,50,10,20]\n",
    "dataset1.sort()\n",
    "n=len(dataset1)\n",
    "if n%2==0:\n",
    "  median=(dataset1[n//2]+dataset1[n//2-1])/2\n",
    "else:\n",
    "  median=dataset1[n//2]\n",
    "print(median)"
   ]
  },
  {
   "cell_type": "code",
   "execution_count": 9,
   "id": "70deab3c",
   "metadata": {},
   "outputs": [
    {
     "name": "stdout",
     "output_type": "stream",
     "text": [
      "40\n"
     ]
    }
   ],
   "source": [
    "dataset=[60,30,40,40,50,10,20]\n",
    "dataset.sort()\n",
    "mode=statistics.mode(dataset)\n",
    "print(mode)"
   ]
  },
  {
   "cell_type": "code",
   "execution_count": 10,
   "id": "cbb7a622",
   "metadata": {},
   "outputs": [
    {
     "name": "stdout",
     "output_type": "stream",
     "text": [
      "Mode: 20\n"
     ]
    }
   ],
   "source": [
    "numbers=[10,20,50,20,20,5,60,90]\n",
    "def find_mode(lst):\n",
    "    counts = {}\n",
    "    for item in lst:\n",
    "        if item in counts:\n",
    "            counts[item] += 1\n",
    "        else:\n",
    "            counts[item] = 1\n",
    "    mode = max(counts, key=counts.get)\n",
    "    return mode\n",
    "print('Mode:', find_mode(numbers))"
   ]
  },
  {
   "cell_type": "code",
   "execution_count": 11,
   "id": "babfd544",
   "metadata": {},
   "outputs": [
    {
     "name": "stdout",
     "output_type": "stream",
     "text": [
      "mean: 30.0\n",
      "Variance: 200.0\n",
      "Standard deviation: 14.142135623730951\n"
     ]
    }
   ],
   "source": [
    "data2=[10,20,30,40,50]\n",
    "n=len(data)\n",
    "mean = sum (data2)/n\n",
    "square_diffs=[(x-mean)**2 for x in data]\n",
    "var= sum(square_diffs)/n\n",
    "stdev=var**0.5\n",
    "print(\"mean:\", mean)\n",
    "print(\"Variance:\",var)\n",
    "print(\"Standard deviation:\", stdev)"
   ]
  },
  {
   "cell_type": "code",
   "execution_count": null,
   "id": "c0c45d90",
   "metadata": {},
   "outputs": [],
   "source": []
  }
 ],
 "metadata": {
  "kernelspec": {
   "display_name": "base",
   "language": "python",
   "name": "python3"
  },
  "language_info": {
   "codemirror_mode": {
    "name": "ipython",
    "version": 3
   },
   "file_extension": ".py",
   "mimetype": "text/x-python",
   "name": "python",
   "nbconvert_exporter": "python",
   "pygments_lexer": "ipython3",
   "version": "3.12.7"
  }
 },
 "nbformat": 4,
 "nbformat_minor": 5
}
